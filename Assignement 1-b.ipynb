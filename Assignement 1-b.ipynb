{
 "cells": [
  {
   "cell_type": "markdown",
   "id": "b0e54bd3",
   "metadata": {},
   "source": [
    "## Question 1:\n",
    "Write a Python function called greet_user that takes two parameters: name (a string representing the user's name) and greeting (a string representing a greeting message). The function should print the personalized greeting message. If the greeting parameter is not provided, the function should use \"Hello\" as the default greeting.\n",
    "\n",
    "Expected Output:\n",
    "\n",
    "If the user's name is \"Alice\" and no specific greeting is provided, the function should print \"Hello, Alice!\".\n",
    "\n",
    "Please write the Python code for the greet_user function and demonstrate its usage with different examples, both with and without a specific greeting"
   ]
  },
  {
   "cell_type": "code",
   "execution_count": null,
   "id": "b692411b",
   "metadata": {},
   "outputs": [],
   "source": []
  },
  {
   "cell_type": "code",
   "execution_count": null,
   "id": "37d812aa",
   "metadata": {},
   "outputs": [],
   "source": []
  },
  {
   "cell_type": "markdown",
   "id": "43a5f688",
   "metadata": {},
   "source": [
    "## Question 2:\n",
    "Write a Python program that takes two tuples as input, each containing integers, and returns a new tuple containing the element-wise sum of the corresponding elements from the input tuples. Assume the input tuples have the same length.\n",
    "\n",
    "Expected Output:\n",
    "\n",
    "If the input tuples are (1, 2, 3) and (4, 5, 6), the program should return (5, 7, 9).\n",
    "Please write the Python code to accomplish this task."
   ]
  },
  {
   "cell_type": "code",
   "execution_count": null,
   "id": "f2e4bd5e",
   "metadata": {},
   "outputs": [],
   "source": [
    "\n",
    "\n"
   ]
  },
  {
   "cell_type": "markdown",
   "id": "eb50ce3a",
   "metadata": {},
   "source": [
    "## Question 3:\n",
    "Write a Python program that prompts the user to guess a secret number between 1 and 10. The program should continue to prompt the user for guesses until they correctly guess the secret number. Provide feedback to the user if their guess is too high or too low.\n",
    "\n",
    "Expected Output:\n",
    "\n",
    "If the secret number is 7 and the user's guesses are 5, 8, 7, the program should print:\n",
    "\n",
    "\"Too low! Try again.\"\n",
    "\n",
    "\"Too high! Try again.\"\n",
    "\n",
    "\"Congratulations! You guessed the secret number 7.\"\n",
    "\n",
    "Please write the Python code for this guessing game using a while loop."
   ]
  },
  {
   "cell_type": "code",
   "execution_count": null,
   "id": "227d8033",
   "metadata": {},
   "outputs": [],
   "source": [
    "# Generate a secret number between 1 and 10\n",
    "\n",
    "# Initialize the user's guess to an invalid value\n",
    "\n",
    "# Prompt the user to guess the secret number\n",
    "\n",
    "\n",
    "# End of the game\n"
   ]
  },
  {
   "cell_type": "code",
   "execution_count": null,
   "id": "3d36701b",
   "metadata": {},
   "outputs": [],
   "source": []
  },
  {
   "cell_type": "markdown",
   "id": "e3c169ff",
   "metadata": {},
   "source": [
    "## Question 4:\n",
    "Write a Python program that takes a list of words as input and creates a dictionary where the keys are the unique words in the list, and the values are lists containing the indices (positions) at which each word appears in the list.\n",
    "\n",
    "Expected Output:\n",
    "\n",
    "If the input list is [\"apple\", \"banana\", \"orange\", \"banana\", \"kiwi\", \"apple\"], the program should return {'apple': [0,5], 'banana': [1,3], 'orange': [2], 'kiwi': [4]}.\n",
    "Please write the Python code to accomplish this task."
   ]
  },
  {
   "cell_type": "code",
   "execution_count": null,
   "id": "2ea6eb25",
   "metadata": {},
   "outputs": [],
   "source": []
  },
  {
   "cell_type": "code",
   "execution_count": null,
   "id": "c1f00882",
   "metadata": {},
   "outputs": [],
   "source": [
    "# Take a list of words as input\n",
    "\n",
    "# Create a dictionary with word indices \n",
    "\n",
    "# Print the resulting dictionary\n"
   ]
  },
  {
   "cell_type": "code",
   "execution_count": null,
   "id": "e3d64d4a",
   "metadata": {},
   "outputs": [],
   "source": []
  }
 ],
 "metadata": {
  "kernelspec": {
   "display_name": "Python 3",
   "language": "python",
   "name": "python3"
  },
  "language_info": {
   "codemirror_mode": {
    "name": "ipython",
    "version": 3
   },
   "file_extension": ".py",
   "mimetype": "text/x-python",
   "name": "python",
   "nbconvert_exporter": "python",
   "pygments_lexer": "ipython3",
   "version": "3.11.4"
  }
 },
 "nbformat": 4,
 "nbformat_minor": 5
}
