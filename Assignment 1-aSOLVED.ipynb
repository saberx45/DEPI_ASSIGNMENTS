{
 "cells": [
  {
   "cell_type": "markdown",
   "metadata": {},
   "source": [
    "## Python Task 3"
   ]
  },
  {
   "cell_type": "markdown",
   "metadata": {},
   "source": [
    "### Question: Count Vowels in a String\n",
    "\n",
    "**Description:** Write a function named count_vowels that takes a string as an argument and returns the count of vowels (a, e, i, o, u) in the string. \n",
    "\n",
    "The function should be case-insensitive, counting both uppercase and lowercase vowels.\n"
   ]
  },
  {
   "cell_type": "code",
   "execution_count": 5,
   "metadata": {},
   "outputs": [
    {
     "name": "stdout",
     "output_type": "stream",
     "text": [
      "3\n"
     ]
    },
    {
     "data": {
      "text/plain": [
       "'or print the value instantly by {print(Count_Vowels(text))}'"
      ]
     },
     "execution_count": 5,
     "metadata": {},
     "output_type": "execute_result"
    }
   ],
   "source": [
    "'''\n",
    "# Example Input:\n",
    "text = \"Hello World\"\n",
    "# Expected Output:\n",
    "3\n",
    "'''\n",
    "\n",
    "def Count_Vowels(text):\n",
    "    counter=0\n",
    "    for char in text:\n",
    "        if char =='a' or char=='e' or char=='i' or char=='o' or char=='u' or char =='A' or char=='E' or char=='I' or char=='O' or char=='U':\n",
    "            counter+=1\n",
    "    return counter\n",
    "text = \"HEllO WOrld\"\n",
    "c = Count_Vowels(text)\n",
    "print(c)\n",
    "'''or print the value instantly by {print(Count_Vowels(text))}'''"
   ]
  },
  {
   "cell_type": "markdown",
   "metadata": {},
   "source": [
    "### Question: Find the Maximum Value in a List Using a Function\n",
    "Description: Write a function named find_max that takes a list of integers as an argument and returns the maximum value in the list. \n",
    "\n",
    "Do not use Python’s built-in max() function. The function should handle cases where the list is empty by returning None.\n"
   ]
  },
  {
   "cell_type": "code",
   "execution_count": null,
   "metadata": {},
   "outputs": [
    {
     "name": "stdout",
     "output_type": "stream",
     "text": [
      "None\n"
     ]
    }
   ],
   "source": [
    "'''\n",
    "# Example Input:\n",
    "numbers = [3, 5, 2, 8, 1]\n",
    "# Expected Output:\n",
    "8\n",
    "'''\n",
    "\n",
    "nums  = [3, 5, 2, 8, 1]\n",
    "def find_max(nums):\n",
    "    if(nums==[]):\n",
    "        return None\n",
    "    else:\n",
    "        max = nums[0]\n",
    "        for i in nums:\n",
    "            if (max<i):\n",
    "                max=i \n",
    "        return max\n",
    "m = find_max(nums)\n",
    "print(m)"
   ]
  },
  {
   "cell_type": "code",
   "execution_count": null,
   "metadata": {},
   "outputs": [],
   "source": []
  }
 ],
 "metadata": {
  "kernelspec": {
   "display_name": "Python 3",
   "language": "python",
   "name": "python3"
  },
  "language_info": {
   "codemirror_mode": {
    "name": "ipython",
    "version": 3
   },
   "file_extension": ".py",
   "mimetype": "text/x-python",
   "name": "python",
   "nbconvert_exporter": "python",
   "pygments_lexer": "ipython3",
   "version": "3.13.0"
  }
 },
 "nbformat": 4,
 "nbformat_minor": 4
}
